{
 "cells": [
  {
   "cell_type": "code",
   "execution_count": null,
   "id": "c3269cd1",
   "metadata": {},
   "outputs": [],
   "source": []
  },
  {
   "cell_type": "code",
   "execution_count": null,
   "id": "19306deb",
   "metadata": {},
   "outputs": [],
   "source": []
  },
  {
   "cell_type": "code",
   "execution_count": 3,
   "id": "79ce88a0",
   "metadata": {},
   "outputs": [
    {
     "name": "stderr",
     "output_type": "stream",
     "text": [
      "C:\\Users\\dell\\anaconda3\\Lib\\site-packages\\sklearn\\base.py:347: InconsistentVersionWarning: Trying to unpickle estimator OneHotEncoder from version 1.2.2 when using version 1.3.0. This might lead to breaking code or invalid results. Use at your own risk. For more info please refer to:\n",
      "https://scikit-learn.org/stable/model_persistence.html#security-maintainability-limitations\n",
      "  warnings.warn(\n",
      "C:\\Users\\dell\\anaconda3\\Lib\\site-packages\\sklearn\\base.py:347: InconsistentVersionWarning: Trying to unpickle estimator StandardScaler from version 1.2.2 when using version 1.3.0. This might lead to breaking code or invalid results. Use at your own risk. For more info please refer to:\n",
      "https://scikit-learn.org/stable/model_persistence.html#security-maintainability-limitations\n",
      "  warnings.warn(\n"
     ]
    },
    {
     "name": "stdout",
     "output_type": "stream",
     "text": [
      "1/1 [==============================] - 0s 297ms/step\n"
     ]
    }
   ],
   "source": [
    "import tkinter as tk\n",
    "from tkinter import filedialog\n",
    "from tkinter import messagebox\n",
    "from PIL import Image, ImageTk\n",
    "import librosa\n",
    "import numpy as np\n",
    "import joblib\n",
    "from keras.models import load_model\n",
    "from sklearn.preprocessing import StandardScaler\n",
    "\n",
    "# Load the encoder and scaler\n",
    "encoder = joblib.load('encoder.joblib')\n",
    "scaler = joblib.load('scaler.joblib')\n",
    "\n",
    "# Load the trained model\n",
    "model = load_model('speech_model.h5')\n",
    "\n",
    "# Function to preprocess audio file and make prediction\n",
    "def extract_features(data, sample_rate):\n",
    "    zcr = np.mean(librosa.feature.zero_crossing_rate(y=data).T, axis=0)\n",
    "    chroma_stft = np.mean(librosa.feature.chroma_stft(S=np.abs(librosa.stft(data)), sr=sample_rate).T, axis=0)\n",
    "    mfcc = np.mean(librosa.feature.mfcc(y=data, sr=sample_rate).T, axis=0)\n",
    "    rms = np.mean(librosa.feature.rms(y=data).T, axis=0)\n",
    "    mel = np.mean(librosa.feature.melspectrogram(y=data, sr=sample_rate).T, axis=0)\n",
    "    return np.hstack((zcr, chroma_stft, mfcc, rms, mel))\n",
    "\n",
    "def predict_emotion(file_path):\n",
    "    try:\n",
    "        data, sample_rate = librosa.load(file_path, duration=2.5, offset=0.6)\n",
    "        features = extract_features(data, sample_rate)\n",
    "        features_scaled = scaler.transform(np.expand_dims(features, axis=0))\n",
    "        features_scaled = np.expand_dims(features_scaled, axis=2)\n",
    "        prediction = model.predict(features_scaled)\n",
    "        emotion_label = encoder.categories_[0][np.argmax(prediction)]\n",
    "        return emotion_label\n",
    "    except Exception as e:\n",
    "        print(\"Error:\", e)\n",
    "        return \"Error\"\n",
    "\n",
    "# Function to handle file selection\n",
    "def browse_file():\n",
    "    file_path = filedialog.askopenfilename(filetypes=[(\"Audio Files\", \"*.wav\")])\n",
    "    if file_path:\n",
    "        emotion_label = predict_emotion(file_path)\n",
    "        result_label.config(text=f\"Predicted Emotion: {emotion_label}\")\n",
    "\n",
    "# main application window\n",
    "app = tk.Tk()\n",
    "app.title(\"Emotion Speech Prediction\")\n",
    "app.geometry(\"400x200\") \n",
    "\n",
    "# widgets\n",
    "browse_button = tk.Button(app, text=\"Browse\", command=browse_file)\n",
    "result_label = tk.Label(app, text=\"Predicted Emotion: \")\n",
    "\n",
    "# Pack widgets\n",
    "browse_button.pack(pady=20)\n",
    "result_label.pack()\n",
    "\n",
    "# Start the GUI application\n",
    "app.mainloop()\n"
   ]
  },
  {
   "cell_type": "code",
   "execution_count": null,
   "id": "4ceef15b",
   "metadata": {},
   "outputs": [],
   "source": []
  }
 ],
 "metadata": {
  "kernelspec": {
   "display_name": "Python 3 (ipykernel)",
   "language": "python",
   "name": "python3"
  },
  "language_info": {
   "codemirror_mode": {
    "name": "ipython",
    "version": 3
   },
   "file_extension": ".py",
   "mimetype": "text/x-python",
   "name": "python",
   "nbconvert_exporter": "python",
   "pygments_lexer": "ipython3",
   "version": "3.11.5"
  }
 },
 "nbformat": 4,
 "nbformat_minor": 5
}
